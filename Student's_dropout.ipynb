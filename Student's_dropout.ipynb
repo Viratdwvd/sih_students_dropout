{
 "cells": [
  {
   "cell_type": "markdown",
   "metadata": {
    "id": "8XDkAbyQAIc1"
   },
   "source": [
    "# Student's Dropout Prediction using Supervised Machine Learning Classifiers"
   ]
  },
  {
   "cell_type": "code",
   "execution_count": 1,
   "metadata": {
    "colab": {
     "base_uri": "https://localhost:8080/"
    },
    "id": "eQ7rTWf4AIc9",
    "outputId": "767d5909-d368-4932-e2bb-2caedb3c6773"
   },
   "outputs": [
    {
     "ename": "ModuleNotFoundError",
     "evalue": "No module named 'tqdm'",
     "output_type": "error",
     "traceback": [
      "\u001b[1;31m---------------------------------------------------------------------------\u001b[0m",
      "\u001b[1;31mModuleNotFoundError\u001b[0m                       Traceback (most recent call last)",
      "Cell \u001b[1;32mIn[1], line 6\u001b[0m\n\u001b[0;32m      4\u001b[0m \u001b[38;5;28;01mimport\u001b[39;00m \u001b[38;5;21;01mnumpy\u001b[39;00m \u001b[38;5;28;01mas\u001b[39;00m \u001b[38;5;21;01mnp\u001b[39;00m\n\u001b[0;32m      5\u001b[0m \u001b[38;5;28;01mimport\u001b[39;00m \u001b[38;5;21;01mpandas\u001b[39;00m \u001b[38;5;28;01mas\u001b[39;00m \u001b[38;5;21;01mpd\u001b[39;00m\n\u001b[1;32m----> 6\u001b[0m \u001b[38;5;28;01mfrom\u001b[39;00m \u001b[38;5;21;01mtqdm\u001b[39;00m \u001b[38;5;28;01mimport\u001b[39;00m tqdm\n\u001b[0;32m      8\u001b[0m \u001b[38;5;66;03m# Data Visualization\u001b[39;00m\n\u001b[0;32m      9\u001b[0m \u001b[38;5;28;01mimport\u001b[39;00m \u001b[38;5;21;01mmatplotlib\u001b[39;00m\u001b[38;5;21;01m.\u001b[39;00m\u001b[38;5;21;01mpyplot\u001b[39;00m \u001b[38;5;28;01mas\u001b[39;00m \u001b[38;5;21;01mplt\u001b[39;00m\n",
      "\u001b[1;31mModuleNotFoundError\u001b[0m: No module named 'tqdm'"
     ]
    }
   ],
   "source": [
    "# Importing relevant libraries\n",
    "\n",
    "# Data wrangling\n",
    "import numpy as np\n",
    "import pandas as pd\n",
    "from tqdm import tqdm\n",
    "\n",
    "# Data Visualization\n",
    "import matplotlib.pyplot as plt\n",
    "import plotly.express as px\n",
    "import plotly.graph_objects as go\n",
    "from plotly.subplots import make_subplots\n",
    "\n",
    "\n",
    "# Data pre-processing\n",
    "from sklearn.preprocessing import StandardScaler\n",
    "\n",
    "# Data splitting\n",
    "from sklearn.model_selection import train_test_split\n",
    "\n",
    "# Machine learning Models\n",
    "from sklearn.decomposition import PCA\n",
    "from sklearn.model_selection import GridSearchCV\n",
    "from sklearn.linear_model import LogisticRegression\n",
    "from sklearn.tree import DecisionTreeClassifier\n",
    "from sklearn.svm import SVC\n",
    "from sklearn.ensemble import RandomForestClassifier\n",
    "from sklearn.neighbors import KNeighborsClassifier\n",
    "\n",
    "\n",
    "# Evaluation metrics\n",
    "from sklearn.metrics import accuracy_score\n",
    "from sklearn.metrics import confusion_matrix, ConfusionMatrixDisplay\n",
    "from sklearn.metrics import roc_curve, auc\n",
    "\n",
    "\n",
    "#Installing dependencies\n",
    "!pip install -U kaleido"
   ]
  },
  {
   "cell_type": "code",
   "execution_count": null,
   "metadata": {
    "colab": {
     "base_uri": "https://localhost:8080/",
     "height": 278
    },
    "id": "dlWMlU8RElAp",
    "outputId": "0d4758e6-be4a-4bb9-a410-e84496be3778"
   },
   "outputs": [],
   "source": [
    "# Read dataset from csv file\n",
    "data =  pd.read_csv(\"student's dropout dataset.csv\")\n",
    "\n",
    "# Correcting typographical error for nationality\n",
    "data.rename(columns = {'Nacionality':'Nationality'}, inplace = True)\n",
    "data.head()"
   ]
  },
  {
   "cell_type": "markdown",
   "metadata": {
    "id": "W1FRrAaXLPf2"
   },
   "source": [
    "## Descriptive analysis"
   ]
  },
  {
   "cell_type": "code",
   "execution_count": null,
   "metadata": {
    "colab": {
     "base_uri": "https://localhost:8080/"
    },
    "id": "xtBjgJAKKDCl",
    "outputId": "d8ed959d-f726-46c7-d62d-7df68b49a26c"
   },
   "outputs": [],
   "source": [
    "# shape of data\n",
    "data.shape"
   ]
  },
  {
   "cell_type": "markdown",
   "metadata": {
    "id": "cqer3Ak9LXTC"
   },
   "source": [
    "We have 4,424 observations (rows) and 35 features (Columns)"
   ]
  },
  {
   "cell_type": "code",
   "execution_count": null,
   "metadata": {
    "colab": {
     "base_uri": "https://localhost:8080/"
    },
    "id": "gNNi-JoN2kTb",
    "outputId": "65228f02-c6ca-4126-9eef-1d675f3df22e"
   },
   "outputs": [],
   "source": [
    "data.info()"
   ]
  },
  {
   "cell_type": "markdown",
   "metadata": {
    "id": "NNYK2tcG4GNH"
   },
   "source": [
    "The results shows that all columns are numerical except the target column"
   ]
  },
  {
   "cell_type": "code",
   "execution_count": null,
   "metadata": {
    "colab": {
     "base_uri": "https://localhost:8080/",
     "height": 466
    },
    "id": "rqcv-4CCAIdD",
    "outputId": "7c986712-b73e-468f-ee80-25d86024ac68"
   },
   "outputs": [],
   "source": [
    "# descriptive analysis\n",
    "pd.set_option('display.max_columns', None)\n",
    "data.describe(include = 'all')"
   ]
  },
  {
   "cell_type": "code",
   "execution_count": null,
   "metadata": {
    "colab": {
     "base_uri": "https://localhost:8080/"
    },
    "id": "KUQ4DICmAIdP",
    "outputId": "a4721576-0650-45e3-8324-da131e3fa200"
   },
   "outputs": [],
   "source": [
    "#Checking for null values\n",
    "data.isnull().any().sum()"
   ]
  },
  {
   "cell_type": "markdown",
   "metadata": {
    "id": "jM7NVEXF81EV"
   },
   "source": [
    "No null values present in the data set"
   ]
  },
  {
   "cell_type": "markdown",
   "metadata": {
    "id": "h0j5NzfTLHHz"
   },
   "source": [
    "#Exploratory Data Analysis"
   ]
  },
  {
   "cell_type": "markdown",
   "metadata": {
    "id": "JptzEOhTAIdJ"
   },
   "source": [
    "The majority of categorical variables in the downloaded dataset have already been converted to numerical format. However, for the purpose of exploratory data analysis (EDA), we will revert certain columns to their original categorical form."
   ]
  },
  {
   "cell_type": "code",
   "execution_count": null,
   "metadata": {
    "id": "Dok2c_qeFfyB"
   },
   "outputs": [],
   "source": [
    "# Create a copy for exploratory data analysis\n",
    "data_viz = data.copy()"
   ]
  },
  {
   "cell_type": "markdown",
   "metadata": {
    "id": "8f6DAxilZjxj"
   },
   "source": [
    "## Target Feature\n",
    "First we explore the values in the target column"
   ]
  },
  {
   "cell_type": "code",
   "execution_count": null,
   "metadata": {
    "colab": {
     "base_uri": "https://localhost:8080/"
    },
    "id": "JfgaKlTAAIdG",
    "outputId": "1b300ac2-0305-49f1-86be-f0d9a0c0be1d"
   },
   "outputs": [],
   "source": [
    "data['Target'].unique()"
   ]
  },
  {
   "cell_type": "markdown",
   "metadata": {
    "id": "8w4k5xiaKgd_"
   },
   "source": [
    "From the target column we can infer the following:\n",
    "* Dropout: The student dropped out\n",
    "* Graduate: The student graduated\n",
    "* Enrolled: The student is currently enrolled"
   ]
  },
  {
   "cell_type": "code",
   "execution_count": null,
   "metadata": {
    "colab": {
     "base_uri": "https://localhost:8080/",
     "height": 421
    },
    "id": "HMql3u4WoVtX",
    "outputId": "3ade30c2-192a-465d-ab77-e7e770da0510"
   },
   "outputs": [],
   "source": [
    "# Distribution of Target feature\n",
    "fig = px.pie(values= data_viz['Target'].value_counts(),\n",
    "             names= data_viz['Target'].value_counts().index.to_list())\n",
    "\n",
    "fig.update_traces(textposition='inside', textinfo='percent+label',\n",
    "                  marker=dict(colors=['teal', 'goldenrod', 'slateblue']))\n",
    "\n",
    "fig.update_layout(showlegend = False, height=400, width=800,\n",
    "                  title='Distribution of Target')\n",
    "fig.write_image('fig.svg', engine='kaleido')\n",
    "fig.show('svg')"
   ]
  },
  {
   "cell_type": "markdown",
   "metadata": {
    "id": "lV-anaQKAIdV"
   },
   "source": [
    "**Observation**\n",
    "* The graph shows that majority of the students are Graduates **(49%)**\n",
    "* There are also more Dropouts **(32.1%)** than those currently Enrolled **(17%)**"
   ]
  },
  {
   "cell_type": "markdown",
   "metadata": {
    "id": "F0oqXFWXBTnc"
   },
   "source": [
    "## Age distribution of students"
   ]
  },
  {
   "cell_type": "code",
   "execution_count": null,
   "metadata": {
    "colab": {
     "base_uri": "https://localhost:8080/",
     "height": 521
    },
    "id": "PaDRiuDmAxYz",
    "outputId": "7e26a2e2-704d-4445-f761-80521213859c"
   },
   "outputs": [],
   "source": [
    "# Histogram for Age\n",
    "fig = px.histogram(data_viz, x='Age at enrollment', color = 'Target',\n",
    "                   opacity = 0.75, barmode = 'overlay',\n",
    "                    width = 800, height = 500, color_discrete_sequence=px.colors.qualitative.G10)\n",
    "fig.update_layout(title='Age distribution of students')\n",
    "fig.write_image('fig.svg', engine='kaleido')\n",
    "fig.show('svg')"
   ]
  },
  {
   "cell_type": "markdown",
   "metadata": {
    "id": "jM4zhPhZCevN"
   },
   "source": [
    "**Observation**\n",
    "\n",
    "* Distribution shows that the data is right skewed indicating that majority of the students are in their late teen's to early 20's\n",
    "* It is also observed that there was an increase in dropout rate from students in their mid 20's to early 30's"
   ]
  },
  {
   "cell_type": "markdown",
   "metadata": {
    "id": "CSRG-sOxWCRy"
   },
   "source": [
    "For the next set of data visualizations, we would be dealing with pie charts mostly. To reduce repeatability of code, two functions are created;\n",
    "\n",
    "One to create dictionaries of all categories with respect to number of students enrolled, students who dropped out or graduated, the other would be to create pie charts based on the dictionaries created for visualization."
   ]
  },
  {
   "cell_type": "code",
   "execution_count": null,
   "metadata": {
    "id": "OT_tA51-L3yx"
   },
   "outputs": [],
   "source": [
    "def get_dictionaries(category_list, dfcolumn_name, target_col, dictionary_list):\n",
    "  '''This function returns a list of dictionaries for value count of each target label per category'''\n",
    "  for each_category in category_list:\n",
    "    a_dictionary = dict(data_viz[data_viz[dfcolumn_name]== each_category][target_col].value_counts())\n",
    "    dictionary_list.append(a_dictionary)\n",
    "  return dictionary_list"
   ]
  },
  {
   "cell_type": "code",
   "execution_count": null,
   "metadata": {
    "id": "P4eP42g0D7Rg"
   },
   "outputs": [],
   "source": [
    "def make_pie(dictionary_list, trace_list, colors_list, textposition = 'inside'):\n",
    "  '''This function returns a list of traces for pie charts'''\n",
    "  for dictionary in dictionary_list:\n",
    "    trace = go.Pie(values = list(dictionary.values()), labels = list(dictionary.keys()),\n",
    "           textposition = textposition, textinfo='percent+label',\n",
    "           marker=dict(colors=colors_list))\n",
    "    trace_list.append(trace)\n",
    "  return trace_list\n",
    "\n"
   ]
  },
  {
   "cell_type": "markdown",
   "metadata": {
    "id": "q6V2CtjGBcfh"
   },
   "source": [
    "## Gender distribution of students"
   ]
  },
  {
   "cell_type": "code",
   "execution_count": null,
   "metadata": {
    "id": "WkuTNfiZKnlh"
   },
   "outputs": [],
   "source": [
    "# Change gender from numerical to catgorical\n",
    "data_viz['Gender'] = data_viz['Gender'].map({1:'Male', 0:'Female'})"
   ]
  },
  {
   "cell_type": "code",
   "execution_count": null,
   "metadata": {
    "colab": {
     "base_uri": "https://localhost:8080/",
     "height": 421
    },
    "id": "ekTr2HJ3C1nz",
    "outputId": "13df3b77-58a6-42e4-c01e-89e3b3febbeb"
   },
   "outputs": [],
   "source": [
    "# Calculate percentage count for gender\n",
    "percent_count = round(data_viz['Gender'].value_counts(normalize=True) * 100, 1)\n",
    "\n",
    "fig = px.bar(percent_count,  orientation= 'h', text_auto=True)\n",
    "\n",
    "fig.update_traces(marker=dict(color=['red']))\n",
    "\n",
    "fig.update_layout(height=400, width=700,\n",
    "                  title='Gender Percentage Count of Students',\n",
    "                  showlegend = False,\n",
    "                  font=dict(size=14),\n",
    "                  xaxis_title = '%count',\n",
    "                  yaxis_title = 'Gender')\n",
    "fig.write_image('fig.svg', engine='kaleido')\n",
    "fig.show('svg')"
   ]
  },
  {
   "cell_type": "code",
   "execution_count": null,
   "metadata": {
    "colab": {
     "base_uri": "https://localhost:8080/"
    },
    "id": "6iedtbFWQAF2",
    "outputId": "dfb8edb3-8a97-4429-f9ca-16711bd5524b"
   },
   "outputs": [],
   "source": [
    "# Getting dictionaries for genders\n",
    "genders = data_viz['Gender'].unique()\n",
    "genders_dictionaries = get_dictionaries(genders, 'Gender', 'Target', [])\n",
    "genders_dictionaries"
   ]
  },
  {
   "cell_type": "code",
   "execution_count": null,
   "metadata": {
    "colab": {
     "base_uri": "https://localhost:8080/",
     "height": 521
    },
    "id": "GOZIdUCW_YNv",
    "outputId": "e1cd7b4c-dd96-4a19-b46b-a701f214e151"
   },
   "outputs": [],
   "source": [
    "# Creating subplots for Gender distribution of students\n",
    "fig = make_subplots(rows=1, cols=2, subplot_titles=[ 'Male Students', 'Female Students'],\n",
    "                    specs=[[{'type': 'pie'}, {'type': 'pie'}]])\n",
    "\n",
    "# Creating empty trace list\n",
    "traces = []\n",
    "make_pie(genders_dictionaries, traces, ['teal', 'goldenrod', 'slateblue'])\n",
    "\n",
    "# Adding pie charts\n",
    "fig.add_trace(traces[0], row=1, col=1)\n",
    "fig.add_trace(traces[1], row=1, col=2)\n",
    "\n",
    "# Updating layout\n",
    "fig.update_layout(height=500, width=800,\n",
    "                  title='Gender distribution of students',\n",
    "                  showlegend = False,\n",
    "                  font=dict(size=14))\n",
    "\n",
    "fig.write_image('fig.svg', engine='kaleido')\n",
    "fig.show('svg')"
   ]
  },
  {
   "cell_type": "markdown",
   "metadata": {
    "id": "go2nYQJhYCvN"
   },
   "source": [
    "**Observation**\n",
    "* There was a significant number of female students (64.8%) compared to the males (35.2%).\n",
    "* Also it is observed that there was a higher rate of dropout students that were male (45.1%), compared to the females (25.1%)."
   ]
  },
  {
   "cell_type": "markdown",
   "metadata": {
    "id": "pzU4YLvw-3Dg"
   },
   "source": [
    "## Students courses"
   ]
  },
  {
   "cell_type": "code",
   "execution_count": null,
   "metadata": {
    "id": "ANccRsf3Cm3O"
   },
   "outputs": [],
   "source": [
    "# Converting the courses back to categorical\n",
    "data_viz['Course'] = data_viz['Course'].map({1: 'Biofuel Production Technologies',\n",
    " 2: 'Animation and Multimedia Design', 3: 'Social Service (evening attendance)',\n",
    " 4: 'Agronomy', 5: 'Communication Design', 6: 'Veterinary Nursing',\n",
    " 7: 'Informatics Engineering', 8: 'Equiniculture', 9: 'Management',\n",
    " 10: 'Social Service', 11: 'Tourism', 12: 'Nursing', 13: 'Oral Hygiene',\n",
    " 14: 'Advertising and Marketing Management', 15: 'Journalism and Communication',\n",
    " 16: 'Basic Education', 17: 'Management (evening attendance)'})"
   ]
  },
  {
   "cell_type": "code",
   "execution_count": null,
   "metadata": {
    "colab": {
     "base_uri": "https://localhost:8080/",
     "height": 521
    },
    "id": "BD0rawKF22TN",
    "outputId": "ee38cc1d-89ce-41c4-8dbe-8178f70d4f16"
   },
   "outputs": [],
   "source": [
    "# Bar chart for courses\n",
    "percent_count = data_viz['Course'].value_counts()\n",
    "fig = px.bar(percent_count,  orientation= 'h', text_auto=True)\n",
    "\n",
    "\n",
    "fig.update_traces(marker=dict(color=['red','orangered', 'darkorange', 'orange', 'yellow']))\n",
    "fig.update_layout(height=500, width=1000,\n",
    "                  title='Courses enrolled by students',\n",
    "                  showlegend = False,\n",
    "                  font=dict(size=14),\n",
    "                  xaxis_title = 'Total',\n",
    "                  yaxis_title = 'Courses')\n",
    "fig.write_image('fig.svg', engine='kaleido')\n",
    "fig.show('svg')"
   ]
  },
  {
   "cell_type": "code",
   "execution_count": null,
   "metadata": {
    "colab": {
     "base_uri": "https://localhost:8080/",
     "height": 1000
    },
    "id": "lAWl_N-qGJYZ",
    "outputId": "0a6f668a-d8d4-4f02-f969-61048d806750"
   },
   "outputs": [],
   "source": [
    "# Histogram plot for students courses based on traget status\n",
    "fig = px.histogram(data_viz, y='Course', color = 'Target',\n",
    "                   width = 1200, height = 1600,\n",
    "                   text_auto='.1f', color_discrete_sequence=px.colors.qualitative.Dark2,\n",
    "                   barnorm = 'percent', barmode = 'group')\n",
    "\n",
    "# Update layout\n",
    "fig.update_layout(title='Courses', xaxis_title = '%count')\n",
    "\n",
    "fig.write_image('fig.svg', engine='kaleido')\n",
    "fig.show('svg')\n"
   ]
  },
  {
   "cell_type": "markdown",
   "metadata": {
    "id": "PyLT6F6i1kFi"
   },
   "source": [
    "**Observation**\n",
    "\n",
    "Majority of the students are enrolled in Nursing and it also had the lowest droput rate of about **15.4%**.\n",
    "\n",
    "The course that had the highest dropout rate was **Biofuel Production Technologies (66.7%)** which is also had the least number of enrolled students followed by **Equiniculture (55.3%)**.\n"
   ]
  },
  {
   "cell_type": "markdown",
   "metadata": {
    "id": "MouBuYXm876G"
   },
   "source": [
    "## Martial status\n"
   ]
  },
  {
   "cell_type": "code",
   "execution_count": null,
   "metadata": {
    "id": "3blTUKuI9lmh"
   },
   "outputs": [],
   "source": [
    "# Converting back to categorical\n",
    "data_viz['Marital status'] = data_viz['Marital status'].map({1:'Single', 2: 'Married',\n",
    "                                                             3: 'Widower', 4: 'Divorced',\n",
    "                                                             5: 'Facto union', 6: 'Legally Separated'})"
   ]
  },
  {
   "cell_type": "code",
   "execution_count": null,
   "metadata": {
    "colab": {
     "base_uri": "https://localhost:8080/",
     "height": 521
    },
    "id": "OjszWt8_q7OK",
    "outputId": "307ec1f1-c781-4092-850a-a1c0dd28fdd4"
   },
   "outputs": [],
   "source": [
    "# Bar chart for Marital status\n",
    "count = data_viz['Marital status'].value_counts()\n",
    "fig = px.bar(count,  orientation= 'h', text_auto=True)\n",
    "\n",
    "fig.update_traces(marker=dict(color=['red', 'orange']))\n",
    "fig.update_layout(height=500, width=800,\n",
    "                  title='Total Marital status of Students',\n",
    "                  showlegend = False,\n",
    "                  font=dict(size=14),\n",
    "                  xaxis_title = 'Total',\n",
    "                  yaxis_title = 'Marital status')\n",
    "fig.write_image('fig.svg', engine='kaleido')\n",
    "fig.show('svg')"
   ]
  },
  {
   "cell_type": "code",
   "execution_count": null,
   "metadata": {
    "colab": {
     "base_uri": "https://localhost:8080/",
     "height": 521
    },
    "id": "zQXgFy6SgEst",
    "outputId": "3ba027ff-cccb-4e43-e962-5bc123d6fade"
   },
   "outputs": [],
   "source": [
    "fig = px.histogram(data_viz, x='Marital status', color = 'Target',\n",
    "                   width = 1200, height = 500,\n",
    "                   text_auto='.1f', color_discrete_sequence=px.colors.qualitative.Dark2,\n",
    "                   barnorm = 'percent', barmode = 'group')\n",
    "\n",
    "fig.update_layout(title='Marital status', yaxis_title = '%count')\n",
    "\n",
    "fig.write_image('fig.svg', engine='kaleido')\n",
    "fig.show('svg')"
   ]
  },
  {
   "cell_type": "markdown",
   "metadata": {
    "id": "n5JNPK3fCIGJ"
   },
   "source": [
    "**Observation**\n",
    "\n",
    "* Vast majority of the students are single, however **30.2% of single students** droppout.\n",
    "* Another thing to note is that **legally seperated students (66.7)** had the highest percentage of dropouts followed by **Married students (47.2%)**."
   ]
  },
  {
   "cell_type": "markdown",
   "metadata": {
    "id": "MAVKZKnKeTQR"
   },
   "source": [
    "For function below is created to simplify the process and reduce repeatability."
   ]
  },
  {
   "cell_type": "code",
   "execution_count": null,
   "metadata": {
    "id": "x_v5rJCSdJJb"
   },
   "outputs": [],
   "source": [
    "def sub_plots(chart_to_plot, row, col):\n",
    "  '''This function generates the list of subplots'''\n",
    "  cols = chart_to_plot * col\n",
    "  rows = [cols] * row\n",
    "  return rows\n"
   ]
  },
  {
   "cell_type": "markdown",
   "metadata": {
    "id": "yDl11V8RAIdS"
   },
   "source": [
    "## Student's Financial Status\n",
    "\n",
    "Next, we will analyze the financial status of students to understand how scholarship status, debt status, and tuition payment status correlate with dropout rates.\n",
    "\n"
   ]
  },
  {
   "cell_type": "code",
   "execution_count": null,
   "metadata": {
    "id": "0KWZTJCzAIdS"
   },
   "outputs": [],
   "source": [
    "# Converting columns back to categorical\n",
    "to_convert = ['Debtor', 'Tuition fees up to date', 'Scholarship holder']\n",
    "for i in to_convert:\n",
    "    data_viz[i] = data_viz[i].map({1:'Yes', 0: 'No'})"
   ]
  },
  {
   "cell_type": "code",
   "execution_count": null,
   "metadata": {
    "colab": {
     "base_uri": "https://localhost:8080/"
    },
    "id": "DtNJJYG819ig",
    "outputId": "3ed99108-2190-4566-e9c6-2b3f8b26f22b"
   },
   "outputs": [],
   "source": [
    "# Getting dictionaries for students in debt/ not in debt\n",
    "debt = data_viz['Debtor'].unique()\n",
    "debt_dictionaries = get_dictionaries(debt, 'Debtor', 'Target', [])\n",
    "debt_dictionaries"
   ]
  },
  {
   "cell_type": "code",
   "execution_count": null,
   "metadata": {
    "colab": {
     "base_uri": "https://localhost:8080/"
    },
    "id": "xZFwg8Vu3S_6",
    "outputId": "c1026857-8c28-4cfc-839f-9d15f1a4122c"
   },
   "outputs": [],
   "source": [
    "# Getting dictionaries for students with tuition fees paid/ not paid\n",
    "tuition = data_viz['Tuition fees up to date'].unique()\n",
    "tuition_dictionaries = get_dictionaries(tuition, 'Tuition fees up to date', 'Target', [])\n",
    "tuition_dictionaries"
   ]
  },
  {
   "cell_type": "code",
   "execution_count": null,
   "metadata": {
    "colab": {
     "base_uri": "https://localhost:8080/"
    },
    "id": "PFhBaYgA39t9",
    "outputId": "992a2a38-1c4d-4cf4-f880-da446d066f07"
   },
   "outputs": [],
   "source": [
    "# Getting dictionaries for students with scholarship/ no scholarship\n",
    "scholarship = data_viz['Scholarship holder'].unique()\n",
    "scholarship_dictionaries = get_dictionaries(scholarship, 'Scholarship holder', 'Target', [])\n",
    "scholarship_dictionaries"
   ]
  },
  {
   "cell_type": "code",
   "execution_count": null,
   "metadata": {
    "colab": {
     "base_uri": "https://localhost:8080/",
     "height": 1000
    },
    "id": "KeaJ5VkCiIrG",
    "outputId": "c8e90c56-0450-45d6-dc4c-a42b26fd37c8"
   },
   "outputs": [],
   "source": [
    "# Creatign subplots for pie charts\n",
    "fig = make_subplots(rows=3, cols=2,\n",
    "                    subplot_titles = ['No Debt', 'Debt', 'Tuition Paid', 'Tuition not paid', 'No Scholarship', 'Scholarship'],\n",
    "                    specs= sub_plots([{'type':'pie'}], 3,2), vertical_spacing = 0.07)\n",
    "\n",
    "# Initialize an empty list for traces\n",
    "traces = []\n",
    "\n",
    "# Generate traces\n",
    "make_pie(debt_dictionaries, traces, ['teal', 'goldenrod', 'slateblue'])\n",
    "make_pie(tuition_dictionaries, traces, ['teal', 'goldenrod', 'slateblue'])\n",
    "make_pie(scholarship_dictionaries, traces, ['teal', 'goldenrod', 'slateblue'])\n",
    "\n",
    "# Adding pie charts to fig\n",
    "fig.add_trace(traces[0], row=1, col=1)\n",
    "fig.add_trace(traces[1], row=1, col=2)\n",
    "fig.add_trace(traces[2], row=2, col=1)\n",
    "fig.add_trace(traces[3], row=2, col=2)\n",
    "fig.add_trace(traces[4], row=3, col=1)\n",
    "fig.add_trace(traces[5], row=3, col=2)\n",
    "\n",
    "\n",
    "fig.update_layout(title=\"Students Financial status\", height=1000, width=1000, showlegend = False, title_pad=dict(t=100))\n",
    "fig.write_image('fig.svg', engine='kaleido')\n",
    "fig.show('svg')"
   ]
  },
  {
   "cell_type": "markdown",
   "metadata": {
    "id": "Ots5fQ7U2Owr"
   },
   "source": [
    "**Observation**\n",
    "\n",
    "Unsurprisingly, students who were in **debt** and had not completed payment for **tuition** had a higher dropout rate of **62% and 86.6%** respectively.\n",
    "\n",
    "Similarly, students who were granted **scholarships** had a low dropout rate of **12.2%** compared to those who were not given **(38.7%)**."
   ]
  },
  {
   "cell_type": "markdown",
   "metadata": {
    "id": "liezly3LoQtE"
   },
   "source": [
    "Based on our EDA, we have a good understanding of how the data is distributed by gender and age, as well as how certain features like courses enrolled and financial status correlate with the dropout rate. In the next phase, we will build and train a classification model to see if our findings are consistent with the model's results."
   ]
  },
  {
   "cell_type": "markdown",
   "metadata": {
    "id": "HQ5RFWyXIZRg"
   },
   "source": [
    "## Data preparation"
   ]
  },
  {
   "cell_type": "markdown",
   "metadata": {
    "id": "CnG79OGKMBqY"
   },
   "source": [
    "### Features selection\n",
    "\n",
    "The easiest way to view how independent features are correlated is through correlation analysis.\n",
    "\n",
    "This will help in feature selection and determine which independent variables can be dropped or combined to avoid Multicollinearity\n",
    "\n",
    "We can visualize this using heatmaps"
   ]
  },
  {
   "cell_type": "code",
   "execution_count": null,
   "metadata": {
    "colab": {
     "base_uri": "https://localhost:8080/",
     "height": 817
    },
    "id": "gEzPbPeSLk_v",
    "outputId": "356b800e-f886-49c1-96d4-ad4c61661842"
   },
   "outputs": [],
   "source": [
    "# Heat map showing correlation of features\n",
    "fig = px.imshow(data.drop('Target', axis = 1).corr().round(2), text_auto=True, aspect=\"auto\", color_continuous_scale='RdBu_r')\n",
    "fig.update_layout(title = 'Correlation Analysis for independent features', height=800, width=1500)\n",
    "fig.write_image('fig.png', engine='kaleido')\n",
    "fig.show('png')"
   ]
  },
  {
   "cell_type": "markdown",
   "metadata": {
    "id": "jk658hM-BIYY"
   },
   "source": [
    "**Observation**:\n",
    "\n",
    "From the results we can see some features have strong correlation with each other:\n",
    "* Nationality and International\n",
    "* Mother's qualification and Father's qualification\n",
    "* Mother's occupation and Father's occupation\n",
    "* Curricular Units 1st sem and Curricular Units 2nd sem\n",
    "\n",
    "We can decide to pick or drop either `Nationality or International`, `Mother's qualification or Father's qualification` and `Mother's occupation or Father's occupation`.\n",
    "\n",
    "As for `Curricular Units 1st sem` and `Curricular Units 2nd sem` we need to retain this information in our data set without losing valuable information or risk the model overfitting.\n",
    "\n",
    "To solve this, Principal Component Analysis is done to reduce dimensionality.\n"
   ]
  },
  {
   "cell_type": "code",
   "execution_count": null,
   "metadata": {
    "id": "MQ9jnQX3aH-C"
   },
   "outputs": [],
   "source": [
    "# Extract columns for PCA\n",
    "data_forPCA = data[['Curricular units 1st sem (credited)',\n",
    "          'Curricular units 1st sem (enrolled)',\n",
    "          'Curricular units 1st sem (evaluations)',\n",
    "          'Curricular units 1st sem (without evaluations)',\n",
    "          'Curricular units 1st sem (approved)',\n",
    "          'Curricular units 1st sem (grade)',\n",
    "          'Curricular units 2nd sem (credited)',\n",
    "          'Curricular units 2nd sem (enrolled)',\n",
    "          'Curricular units 2nd sem (evaluations)',\n",
    "          'Curricular units 2nd sem (without evaluations)',\n",
    "          'Curricular units 2nd sem (approved)',\n",
    "          'Curricular units 2nd sem (grade)']]\n",
    "\n",
    "\n",
    "# PCA with one component\n",
    "pca = PCA(n_components=1)\n",
    "\n",
    "# Fit PCA to data and transform it\n",
    "pca_result = pca.fit_transform(data_forPCA)\n",
    "\n",
    "# Create a new DataFrame with the reduced feature\n",
    "df_pca = pd.DataFrame(data=pca_result, columns=['PCA Feature']).squeeze()\n",
    "data['Curricular 1st and 2nd sem PCA'] = df_pca"
   ]
  },
  {
   "cell_type": "markdown",
   "metadata": {
    "id": "YQ9VsLCjQm7m"
   },
   "source": [
    "Next, we drop the following features due to high correlation:\n",
    "* Nationality\n",
    "* Mother's occupation\n",
    "* Father's Qualification\n",
    "* Curricular units 1st sem (enrolled)\n",
    "* Curricular units 1st sem (credited)\n",
    "* Curricular units 1st sem (evaluations)\n",
    "* Curricular units 1st sem (approved)\n",
    "* Curricular units 1st sem (grade)\n",
    "* Curricular units 1st sem (without evaluations)\n",
    "* Curricular units 2nd sem (credited)\n",
    "* Curricular units 2nd sem (enrolled)\n",
    "* Curricular units 2nd sem (evaluations)\n",
    "* Curricular units 2nd sem (approved)\n",
    "* Curricular units 2nd sem (without evaluations)\n",
    "* Curricular units 2nd sem (grade)\n"
   ]
  },
  {
   "cell_type": "code",
   "execution_count": null,
   "metadata": {
    "id": "pq7LvWAyZWNt"
   },
   "outputs": [],
   "source": [
    "# Dropping features\n",
    "data.drop(['Nationality', 'Mother\\'s occupation', 'Father\\'s qualification',\n",
    "          'Curricular units 1st sem (credited)',\n",
    "          'Curricular units 1st sem (enrolled)',\n",
    "          'Curricular units 1st sem (evaluations)',\n",
    "          'Curricular units 1st sem (without evaluations)',\n",
    "          'Curricular units 1st sem (approved)',\n",
    "          'Curricular units 1st sem (grade)',\n",
    "          'Curricular units 2nd sem (credited)',\n",
    "          'Curricular units 2nd sem (enrolled)',\n",
    "          'Curricular units 2nd sem (evaluations)',\n",
    "          'Curricular units 2nd sem (without evaluations)',\n",
    "          'Curricular units 2nd sem (approved)',\n",
    "          'Curricular units 2nd sem (grade)', 'Inflation rate', 'GDP',\n",
    "           'Unemployment rate'], axis = 1, inplace = True)"
   ]
  },
  {
   "cell_type": "code",
   "execution_count": null,
   "metadata": {
    "colab": {
     "base_uri": "https://localhost:8080/",
     "height": 817
    },
    "id": "9dEx8HffZTmq",
    "outputId": "ae2cd537-fdc2-45ec-af26-c05e33686954"
   },
   "outputs": [],
   "source": [
    "# Heat map showing correlation of features\n",
    "fig = px.imshow(data.drop('Target', axis = 1).corr().round(2), text_auto=True, aspect=\"auto\", color_continuous_scale='RdBu_r')\n",
    "fig.update_layout(title = 'Correlation Analysis for independent features', height=800, width=1500)\n",
    "fig.write_image('fig.png', engine='kaleido')\n",
    "fig.show('png')"
   ]
  },
  {
   "cell_type": "markdown",
   "metadata": {
    "id": "XN7LeMBtS9b4"
   },
   "source": [
    "### Data Processing\n",
    " Before standardizing the data we need transform the target feature from categorical to numerical data."
   ]
  },
  {
   "cell_type": "code",
   "execution_count": null,
   "metadata": {
    "colab": {
     "base_uri": "https://localhost:8080/",
     "height": 278
    },
    "id": "Hnm-1ffLAIdI",
    "outputId": "dc2c874d-cab9-416c-f19f-8d3c2cd414dc"
   },
   "outputs": [],
   "source": [
    "# Get dummies for Target columns\n",
    "dummies = pd.get_dummies(data['Target'])\n",
    "\n",
    "#Drop all columns except that for Dropout\n",
    "dummies.drop(['Enrolled',\t'Graduate'], axis = 1, inplace= True)\n",
    "data['Target'] = dummies\n",
    "data.head()"
   ]
  },
  {
   "cell_type": "code",
   "execution_count": null,
   "metadata": {
    "colab": {
     "base_uri": "https://localhost:8080/",
     "height": 278
    },
    "id": "VBLn1y34ZqPx",
    "outputId": "32741e77-eee7-4fdd-c1f3-aa73f33fb06c"
   },
   "outputs": [],
   "source": [
    "# Assigning x and y features\n",
    "y = np.array(data['Target'])\n",
    "X_features = data.drop('Target', axis = 1)\n",
    "X_features.head()"
   ]
  },
  {
   "cell_type": "code",
   "execution_count": null,
   "metadata": {
    "colab": {
     "base_uri": "https://localhost:8080/"
    },
    "id": "15R8Uzo0acRg",
    "outputId": "4613ef37-2d24-482f-d699-8208f039ac48"
   },
   "outputs": [],
   "source": [
    "y[:5]"
   ]
  },
  {
   "cell_type": "code",
   "execution_count": null,
   "metadata": {
    "colab": {
     "base_uri": "https://localhost:8080/"
    },
    "id": "NsEuRFsdaue0",
    "outputId": "7b5eb40d-f419-4640-de1e-2ca9f4530f10"
   },
   "outputs": [],
   "source": [
    "# Normalizing data\n",
    "scaler =  StandardScaler()\n",
    "X = scaler.fit_transform(X_features)\n",
    "X\n"
   ]
  },
  {
   "cell_type": "markdown",
   "metadata": {
    "id": "MlTqzj6PcEkW"
   },
   "source": [
    "## Model Building\n",
    "\n",
    "Because the target variable is categorical (either Dropout or not), this is a classification problem.\n",
    "We will train five supervised machine learning classification models:\n",
    "\n",
    "* Logistic regression\n",
    "* Decision trees\n",
    "* Support vector machines\n",
    "* Random forest\n",
    "* K-nearest neighbors\n",
    "\n",
    "First, we will split our data into training, validation, and test sets. We will set the random state to 42 to ensure reproducibility."
   ]
  },
  {
   "cell_type": "markdown",
   "metadata": {
    "id": "uyO15igog41X"
   },
   "source": [
    "### Splitting Training and Test set"
   ]
  },
  {
   "cell_type": "code",
   "execution_count": null,
   "metadata": {
    "id": "YsSBw4uAAIdY"
   },
   "outputs": [],
   "source": [
    "# Split data into training and testing sets\n",
    "X_train, X_test, y_train, y_test = train_test_split(X, y, test_size=0.2, random_state=42)"
   ]
  },
  {
   "cell_type": "markdown",
   "metadata": {
    "id": "wLPj0SrJNDk9"
   },
   "source": [
    "### Creating validation set"
   ]
  },
  {
   "cell_type": "code",
   "execution_count": null,
   "metadata": {
    "id": "a2aie8KGNGv_"
   },
   "outputs": [],
   "source": [
    "# Split data into training and validation sets\n",
    "X_train, X_val, y_train, y_val = train_test_split(X_train, y_train, test_size=0.2, random_state=42)"
   ]
  },
  {
   "cell_type": "markdown",
   "metadata": {
    "id": "2OVCmpo4MqLa"
   },
   "source": [
    "### Baseline Model Accuracy"
   ]
  },
  {
   "cell_type": "code",
   "execution_count": null,
   "metadata": {
    "colab": {
     "base_uri": "https://localhost:8080/"
    },
    "id": "uF5AJigIl3gg",
    "outputId": "6d556be7-fa3b-49e7-89d9-6e99320672a6"
   },
   "outputs": [],
   "source": [
    "# Calculate the baseline accuracy to beat\n",
    "target_value, frequency = np.unique(y, return_counts = True)\n",
    "print(\"Unique Values:\", target_value)\n",
    "\n",
    "print(\"Frequency Values:\", frequency)\n",
    "\n",
    "# Maximum frequency value\n",
    "max_val = frequency.max()\n",
    "length_y = len(y)\n",
    "\n",
    "print('\\n')\n",
    "\n",
    "baseline_acc = round((max_val/length_y) * 100, 3)\n",
    "print(f'The baseline accuracy to beat is {baseline_acc}%')\n",
    "\n"
   ]
  },
  {
   "cell_type": "markdown",
   "metadata": {
    "id": "Sk2GepGthCTy"
   },
   "source": [
    "A list is created to store all the trained models with the best hyperparameters"
   ]
  },
  {
   "cell_type": "code",
   "execution_count": null,
   "metadata": {
    "id": "elzy9F4qJBgY"
   },
   "outputs": [],
   "source": [
    "# List of all trained models\n",
    "\n",
    "trained_models = []"
   ]
  },
  {
   "cell_type": "markdown",
   "metadata": {
    "id": "u6DTgQ_b40bR"
   },
   "source": [
    "### Logistic Regression"
   ]
  },
  {
   "cell_type": "code",
   "execution_count": null,
   "metadata": {
    "colab": {
     "base_uri": "https://localhost:8080/"
    },
    "id": "AqRA4CluAIdh",
    "outputId": "8a5fb95a-1e14-49a4-98f7-0576491f5bd3"
   },
   "outputs": [],
   "source": [
    "# Train a logistic regression model\n",
    "lr_model = LogisticRegression(random_state = 42, max_iter= 1000)\n",
    "lr_model.fit(X_train, y_train)\n",
    "\n",
    "\n",
    "# Predict target values for train data\n",
    "y_pred_train = lr_model.predict(X_train)\n",
    "\n",
    "# Predict target values for validation data\n",
    "y_pred_val = lr_model.predict(X_val)\n",
    "\n",
    "# Predict target values for test data\n",
    "y_pred = lr_model.predict(X_test)\n",
    "\n",
    "# Evaluate the model's accuracy\n",
    "lr_acc_train = round(accuracy_score(y_train, y_pred_train), 3)\n",
    "lr_acc_val = round(accuracy_score(y_val, y_pred_val), 3)\n",
    "lr_acc = round(accuracy_score(y_test, y_pred), 2)\n",
    "print(f'Accuracy of logistic regression model on the training set is {lr_acc_train * 100}%')\n",
    "print(f'Accuracy of logistic regression model on the validation set is {lr_acc_val * 100}%')\n",
    "print('\\n')\n",
    "print(f'Accuracy of logistic regression model on the test set is {lr_acc * 100}%')\n",
    "\n",
    "# Add to model list\n",
    "trained_models.append(lr_model)\n"
   ]
  },
  {
   "cell_type": "markdown",
   "metadata": {
    "id": "01GbUfi8doQP"
   },
   "source": [
    "### Decision Trees"
   ]
  },
  {
   "cell_type": "code",
   "execution_count": null,
   "metadata": {
    "colab": {
     "base_uri": "https://localhost:8080/"
    },
    "id": "I0CKmM4lM9p4",
    "outputId": "1dd12c3f-8dfa-4253-d90d-cb68b444b76d"
   },
   "outputs": [],
   "source": [
    "# List for possible depth value\n",
    "depth_values = list(range(1, 21))\n",
    "\n",
    "# Create empty list for training data and validation data\n",
    "training_acc = []\n",
    "validation_acc = []\n",
    "\n",
    "for d in tqdm(depth_values):\n",
    "  tree_model = DecisionTreeClassifier(max_depth=d, random_state=42)\n",
    "  tree_model.fit(X_train, y_train)\n",
    "\n",
    "  # Training accuracy\n",
    "  y_pred_training = tree_model.predict(X_train)\n",
    "  training_acc.append(accuracy_score(y_train, y_pred_training))\n",
    "\n",
    "  # Validation accuracy\n",
    "  y_pred_validation = tree_model.predict(X_val)\n",
    "  validation_acc.append(accuracy_score(y_val, y_pred_validation))\n"
   ]
  },
  {
   "cell_type": "code",
   "execution_count": null,
   "metadata": {
    "colab": {
     "base_uri": "https://localhost:8080/",
     "height": 472
    },
    "id": "GsbwKECZM9mU",
    "outputId": "b0965710-c833-420c-cf7b-bc93d6637414"
   },
   "outputs": [],
   "source": [
    "# Plotting learning curve\n",
    "plt.plot(training_acc, label = 'Training Accuracy')\n",
    "plt.plot(validation_acc, label = 'Validation Accuracy')\n",
    "plt.xlabel('Depth Values')\n",
    "plt.ylabel('Accuracy Score')\n",
    "plt.title('Learning curve')\n",
    "plt.legend();"
   ]
  },
  {
   "cell_type": "markdown",
   "metadata": {
    "id": "fgkC9E2jist4"
   },
   "source": [
    "From the training curve we can estimate that the best depth value that yielded the highest accuracy score was between 2 and 5. However, a better way to pick out the depth value would be to get the index value that corresponds to the highest accuracy score in the `validation_acc` list"
   ]
  },
  {
   "cell_type": "code",
   "execution_count": null,
   "metadata": {
    "colab": {
     "base_uri": "https://localhost:8080/"
    },
    "id": "uBOSIHdzM9il",
    "outputId": "67bcd649-80c6-4df8-b087-23598b6637f1"
   },
   "outputs": [],
   "source": [
    "# Best depth value\n",
    "best_val_acc = max(validation_acc)\n",
    "best_depth = validation_acc.index(best_val_acc) +1\n",
    "print(f'Best depth value with an accuracy of {round(best_val_acc * 100, 2)}% on the validation set is {best_depth}')\n"
   ]
  },
  {
   "cell_type": "code",
   "execution_count": null,
   "metadata": {
    "colab": {
     "base_uri": "https://localhost:8080/"
    },
    "id": "77HX_bEyd3dJ",
    "outputId": "ae265f31-7694-4263-e051-bcf51082f02f"
   },
   "outputs": [],
   "source": [
    "# Train a Decision tree model with best depth\n",
    "tree_model = DecisionTreeClassifier(max_depth=best_depth, random_state=42)\n",
    "tree_model.fit(X_train, y_train)\n",
    "\n",
    "# Predict target values for test data\n",
    "y_pred = tree_model.predict(X_test)\n",
    "\n",
    "# Evaluate the model's accuracy\n",
    "tree_acc = round(accuracy_score(y_test, y_pred), 3)\n",
    "print(f'Accuracy of Decision tree model is {tree_acc * 100}%')\n",
    "\n",
    "\n",
    "# Add to model list\n",
    "trained_models.append(tree_model)"
   ]
  },
  {
   "cell_type": "markdown",
   "metadata": {
    "id": "ZBBTtkOBfKjW"
   },
   "source": [
    "### Support Vector Machines"
   ]
  },
  {
   "cell_type": "code",
   "execution_count": null,
   "metadata": {
    "colab": {
     "base_uri": "https://localhost:8080/"
    },
    "id": "HnBaAsfggw7X",
    "outputId": "13258c7a-f3e4-4fcd-8182-da365a7354d5"
   },
   "outputs": [],
   "source": [
    "# Iterating to see which kernel gives the best result\n",
    "kernels = ['linear', 'poly', 'rbf', 'sigmoid']\n",
    "score_list = {}\n",
    "scores = 0\n",
    "svm_linear = []\n",
    "\n",
    "for k in tqdm(kernels):\n",
    "    svm_model = SVC(random_state = 42, kernel= k)\n",
    "    svm_model.fit(X_train, y_train)\n",
    "    if k == 'linear':\n",
    "      svm_linear.append(svm_model)\n",
    "    f_score = svm_model.score(X_val, y_val)\n",
    "    score_list.update({k: f_score})\n",
    "\n",
    "\n",
    "score_list"
   ]
  },
  {
   "cell_type": "code",
   "execution_count": null,
   "metadata": {
    "id": "BA0i_0B3tNug"
   },
   "outputs": [],
   "source": [
    "max_val = max(score_list.values())\n",
    "list_values = list(score_list.values())\n",
    "list_keys = list(score_list.keys())\n",
    "\n",
    "# Best kernel\n",
    "k = list_keys[list_values.index(max_val)]"
   ]
  },
  {
   "cell_type": "code",
   "execution_count": null,
   "metadata": {
    "colab": {
     "base_uri": "https://localhost:8080/",
     "height": 57
    },
    "id": "V7rz76rStAtW",
    "outputId": "412ac1b8-7103-4dd4-addb-696b3e48a9eb"
   },
   "outputs": [],
   "source": [
    "from IPython.display import Markdown\n",
    "Markdown(f\"\"\"\n",
    "#### From the result we can determine that the optimal kernal for the SVC is {k}\"\"\")"
   ]
  },
  {
   "cell_type": "code",
   "execution_count": null,
   "metadata": {
    "colab": {
     "base_uri": "https://localhost:8080/"
    },
    "id": "T6SDVtFsfPyH",
    "outputId": "034b77e0-efdf-4b7d-d9fd-24aca652da32"
   },
   "outputs": [],
   "source": [
    "# Train a SVC model\n",
    "svm_model = SVC(random_state = 42, kernel = k)\n",
    "svm_model.fit(X_train, y_train)\n",
    "\n",
    "# Predict target values for test data\n",
    "y_pred = svm_model.predict(X_test)\n",
    "\n",
    "# Evaluate the model's accuracy\n",
    "svm_acc = round(accuracy_score(y_test, y_pred),3)\n",
    "print(f'Accuracy of Support vector classifier model is {svm_acc * 100}%')\n",
    "\n",
    "# Add to model list\n",
    "trained_models.append(svm_model)"
   ]
  },
  {
   "cell_type": "markdown",
   "metadata": {
    "id": "mWpj5LGnueCO"
   },
   "source": [
    "To train both Random forest and K-nearest neighbours, we will make use of Grid Search to determine the best parameters. We will also stick to the default value for cross validation which is 5 folds."
   ]
  },
  {
   "cell_type": "markdown",
   "metadata": {
    "id": "woyfMfARiRt1"
   },
   "source": [
    "### Random forest"
   ]
  },
  {
   "cell_type": "code",
   "execution_count": null,
   "metadata": {
    "colab": {
     "base_uri": "https://localhost:8080/"
    },
    "id": "sXaII3kqiYAC",
    "outputId": "0f937ead-afb8-4409-b1b0-54f142244135"
   },
   "outputs": [],
   "source": [
    "# Train a Random forest model\n",
    "rf_model = RandomForestClassifier(random_state=42)\n",
    "rf_model.fit(X_train, y_train)\n",
    "\n",
    "# Predict target values for training data\n",
    "y_pred_train = rf_model.predict(X_train)\n",
    "rf_acc_train = round(accuracy_score(y_train, y_pred_train), 3)\n",
    "\n",
    "# Predict target values for validation data\n",
    "y_pred_val = rf_model.predict(X_val)\n",
    "rf_acc_val = round(accuracy_score(y_val, y_pred_val), 3)\n",
    "\n",
    "print('With default parameters: ')\n",
    "print(f'Accuracy of Random forest model on training data is {rf_acc_train * 100}%')\n",
    "print(f'Accuracy of Random forest model on validation data is {rf_acc_val * 100}%')\n"
   ]
  },
  {
   "cell_type": "markdown",
   "metadata": {
    "id": "WMdvS9GWkG6U"
   },
   "source": [
    "We can perform a grid search to generate best parameters to train a random forest model."
   ]
  },
  {
   "cell_type": "code",
   "execution_count": null,
   "metadata": {
    "colab": {
     "base_uri": "https://localhost:8080/"
    },
    "id": "j_bloccisZia",
    "outputId": "12ff2a32-1856-484e-af42-945290fead38"
   },
   "outputs": [],
   "source": [
    "# Using Grid search to determine best parameters\n",
    "param_grid = {\n",
    "    'n_estimators': [25, 50, 75, 100],\n",
    "    'max_features': ['sqrt', 'log2', None],\n",
    "    'max_depth': [3, 6, 9],\n",
    "    'max_leaf_nodes': [3, 6, 9],\n",
    "}\n",
    "\n",
    "grid_search = GridSearchCV(RandomForestClassifier(random_state=42),\n",
    "                           param_grid=param_grid, cv = 5)\n",
    "# Fit Grid\n",
    "grid_search.fit(X_train, y_train)\n",
    "best_rf_parameters = grid_search.best_params_\n",
    "print(f'Grid search parameters: {best_rf_parameters}')\n",
    "\n"
   ]
  },
  {
   "cell_type": "code",
   "execution_count": null,
   "metadata": {
    "colab": {
     "base_uri": "https://localhost:8080/"
    },
    "id": "0Jz3EmR8tRt0",
    "outputId": "33f54a24-765b-4d05-f392-8c3fa78cdcd4"
   },
   "outputs": [],
   "source": [
    "# Train a Random forest model with best estimator from Grid search\n",
    "grid_rf_model = RandomForestClassifier(random_state = 42,\n",
    "                                       max_depth = best_rf_parameters['max_depth'],\n",
    "                                      max_leaf_nodes = best_rf_parameters['max_leaf_nodes'],\n",
    "                                      n_estimators = best_rf_parameters['n_estimators'],\n",
    "                                       max_features = best_rf_parameters['max_features'])\n",
    "grid_rf_model.fit(X_train, y_train)\n",
    "\n",
    "# Predict target values for training data\n",
    "y_pred_train = grid_rf_model.predict(X_train)\n",
    "rf_acc_train = round(accuracy_score(y_train, y_pred_train), 3)\n",
    "\n",
    "# Predict target values for validation data\n",
    "y_pred_val = grid_rf_model.predict(X_val)\n",
    "rf_acc_val = round(accuracy_score(y_val, y_pred_val), 3)\n",
    "\n",
    "print('With Grid search best estimator parameters: ')\n",
    "print(f'Accuracy of Random forest model on training data is {rf_acc_train * 100}%')\n",
    "print(f'Accuracy of Random forest model on validation data is {rf_acc_val * 100}%')"
   ]
  },
  {
   "cell_type": "code",
   "execution_count": null,
   "metadata": {
    "colab": {
     "base_uri": "https://localhost:8080/"
    },
    "id": "bh0iDLGfwGF7",
    "outputId": "7f3a4a6c-9782-4fd6-8c42-0c2b15e69362"
   },
   "outputs": [],
   "source": [
    "# Predict target values for test data using default parameters\n",
    "y_pred = grid_rf_model.predict(X_test)\n",
    "rf_acc = round(accuracy_score(y_test, y_pred), 3)\n",
    "print(f'Accuracy of Random forest model on test data is {rf_acc * 100}%')\n",
    "\n",
    "# Add to model list\n",
    "trained_models.append(grid_rf_model)"
   ]
  },
  {
   "cell_type": "markdown",
   "metadata": {
    "id": "8DrywTQ5hnzo"
   },
   "source": [
    "### K- Nearest Neighbours\n",
    "\n"
   ]
  },
  {
   "cell_type": "code",
   "execution_count": null,
   "metadata": {
    "colab": {
     "base_uri": "https://localhost:8080/"
    },
    "id": "8g4yTrL0VTB8",
    "outputId": "599e7e5d-44b1-40b8-df29-8bfd3a6fe51c"
   },
   "outputs": [],
   "source": [
    "# Define the best parameter values using grid search\n",
    "param_grid = {'n_neighbors': np.arange(1, 25)}\n",
    "\n",
    "grid_knn = GridSearchCV(KNeighborsClassifier(), param_grid, cv=5)\n",
    "\n",
    "# Fit grid\n",
    "grid_knn.fit(X_train, y_train)\n",
    "best_knn_parameters = grid_knn.best_params_\n",
    "print(f'Grid search parameters: {best_knn_parameters}')\n"
   ]
  },
  {
   "cell_type": "code",
   "execution_count": null,
   "metadata": {
    "colab": {
     "base_uri": "https://localhost:8080/"
    },
    "id": "liH1onPmVS5Y",
    "outputId": "5deb1e31-c47a-4c28-efaa-19035b13c14f"
   },
   "outputs": [],
   "source": [
    "# Train Knn model with grid parameters\n",
    "grid_knn_model = KNeighborsClassifier(n_neighbors= best_knn_parameters['n_neighbors'])\n",
    "grid_knn_model.fit(X_train, y_train)\n",
    "# Predict target values for training data\n",
    "y_pred_train = grid_knn_model.predict(X_train)\n",
    "knn_acc_train = round(accuracy_score(y_train, y_pred_train), 3)\n",
    "\n",
    "# Predict target values for validation data\n",
    "y_pred_val = grid_knn_model.predict(X_val)\n",
    "knn_acc_val = round(accuracy_score(y_val, y_pred_val), 3)\n",
    "\n",
    "print('With Grid search best estimator parameters: ')\n",
    "print(f'Accuracy of KNN model on training data is {knn_acc_train * 100}%')\n",
    "print(f'Accuracy of KNN model on validation data is {knn_acc_val * 100}%')"
   ]
  },
  {
   "cell_type": "markdown",
   "metadata": {
    "id": "QSfP3_hzrsca"
   },
   "source": [
    "We will also try the elbow method to compare optimal K value"
   ]
  },
  {
   "cell_type": "code",
   "execution_count": null,
   "metadata": {
    "colab": {
     "base_uri": "https://localhost:8080/"
    },
    "id": "nOoLArtchnfI",
    "outputId": "f2e5dfbf-bc9e-45dc-9a2e-d8648ea42825"
   },
   "outputs": [],
   "source": [
    "# Empty list for accuracy scores\n",
    "train_accuracy = []\n",
    "val_accuracy = []\n",
    "for i in tqdm(range(1,21)):\n",
    "  # Train a Knn model\n",
    "  knn_model = KNeighborsClassifier(n_neighbors=i)\n",
    "  # Fit model\n",
    "  knn_model.fit(X_train, y_train)\n",
    "\n",
    "  # Prediction for training data\n",
    "  y_pred_train = knn_model.predict(X_train)\n",
    "  # Prediction for validation data\n",
    "  y_pred_val = knn_model.predict(X_val)\n",
    "\n",
    "  # Accuracy Scores\n",
    "  train_accuracy.append(accuracy_score(y_train, y_pred_train))\n",
    "  val_accuracy.append(accuracy_score(y_val, y_pred_val))"
   ]
  },
  {
   "cell_type": "code",
   "execution_count": null,
   "metadata": {
    "colab": {
     "base_uri": "https://localhost:8080/",
     "height": 472
    },
    "id": "mkkhzP8syHxA",
    "outputId": "9176e1ae-7771-4280-ec65-7b4de3284cfb"
   },
   "outputs": [],
   "source": [
    "# Plotting learning curve\n",
    "plt.plot(train_accuracy, label = 'Training Accuracy')\n",
    "plt.plot(val_accuracy, label = 'Validation Accuracy')\n",
    "plt.xlabel('n Values')\n",
    "plt.ylabel('Accuracy Score')\n",
    "plt.title('Learning curve')\n",
    "plt.legend();"
   ]
  },
  {
   "cell_type": "markdown",
   "metadata": {
    "id": "0KGFufe_sBki"
   },
   "source": [
    "From the curve, we can estimate that the best k values are between 12 and 17."
   ]
  },
  {
   "cell_type": "code",
   "execution_count": null,
   "metadata": {
    "id": "Xhy5L2M591sn"
   },
   "outputs": [],
   "source": [
    "# Determine best n value\n",
    "n = val_accuracy.index(max(val_accuracy)) + 1"
   ]
  },
  {
   "cell_type": "code",
   "execution_count": null,
   "metadata": {
    "colab": {
     "base_uri": "https://localhost:8080/"
    },
    "id": "h2-DyOu2w2Zx",
    "outputId": "715ddcb5-db1e-4d4f-9709-bb7fd7932bf9"
   },
   "outputs": [],
   "source": [
    "print(f'From the result we can determine that the optimal n value with the highest score of {round(max(val_accuracy), 3)  * 100}% is {n}')"
   ]
  },
  {
   "cell_type": "markdown",
   "metadata": {
    "id": "ERKcBWFKyQ3o"
   },
   "source": [
    "We will use the best parameters retrieved from grid search."
   ]
  },
  {
   "cell_type": "code",
   "execution_count": null,
   "metadata": {
    "colab": {
     "base_uri": "https://localhost:8080/"
    },
    "id": "Xxo4M1Kmig5e",
    "outputId": "2ae3542b-d807-400b-de1a-ca40ea0dcdf7"
   },
   "outputs": [],
   "source": [
    "# Train a KNN model\n",
    "knn_model = KNeighborsClassifier(n_neighbors=n)\n",
    "# knn_model = KNeighborsClassifier(n_neighbors=21)\n",
    "knn_model.fit(X_train, y_train)\n",
    "\n",
    "# Predict target values for test data\n",
    "y_pred = knn_model.predict(X_test)\n",
    "\n",
    "# Evaluate the model's accuracy\n",
    "knn_acc = round(accuracy_score(y_test, y_pred), 3)\n",
    "print(f'Accuracy of KNN model is {knn_acc * 100}%')\n",
    "\n",
    "# Confusion Matrix\n",
    "knn_matrix = confusion_matrix(y_test, y_pred)\n",
    "\n",
    "# Add to model list\n",
    "trained_models.append(knn_model)"
   ]
  },
  {
   "cell_type": "markdown",
   "metadata": {
    "id": "blgmbmzg3C49"
   },
   "source": [
    "## Accuracy for each classification model\n",
    "\n",
    "For each model we would view which of them performs the best."
   ]
  },
  {
   "cell_type": "code",
   "execution_count": null,
   "metadata": {
    "colab": {
     "base_uri": "https://localhost:8080/",
     "height": 421
    },
    "id": "6OLHxRAeOZrT",
    "outputId": "763c6170-13a8-4513-9a60-6431008c35d4"
   },
   "outputs": [],
   "source": [
    "# Bar plot showing each classifier\n",
    "accuracy_of_models = {'SVC': svm_acc,\n",
    "                      'Random Forest': rf_acc,\n",
    "                      'Logistic Regression': lr_acc,\n",
    "                      'KNN': knn_acc,\n",
    "                      'Decision Tree': tree_acc}\n",
    "\n",
    "\n",
    "fig = px.bar(y = list(accuracy_of_models.keys()), x= list(accuracy_of_models.values()),\n",
    "             color = list(accuracy_of_models.values()),\n",
    "             width = 800, height = 400,\n",
    "             color_discrete_sequence=px.colors.qualitative.G10,\n",
    "             labels={'y':'Classifier', 'x':'Accuracy'}, text_auto=True)\n",
    "\n",
    "\n",
    "fig.update_layout(title='Accuracy performance of classification models',\n",
    "                  showlegend=False)\n",
    "fig.write_image('fig.svg', engine='kaleido')\n",
    "fig.show('svg')"
   ]
  },
  {
   "cell_type": "markdown",
   "metadata": {
    "id": "SbxDjOzNpK2X"
   },
   "source": [
    "## Confusion maxtix of the best classifier"
   ]
  },
  {
   "cell_type": "code",
   "execution_count": null,
   "metadata": {
    "colab": {
     "base_uri": "https://localhost:8080/"
    },
    "id": "ufn7wja8Lerj",
    "outputId": "5c290703-5879-404d-875e-d4f70bdd5d47"
   },
   "outputs": [],
   "source": [
    "list_of_models = ['Logistic Regression','Decision Tree', 'SVC','Random Forest', 'KNN']\n",
    "dictionary_models = {list_of_models[i]: trained_models[i] for i in range(len(list_of_models))}\n",
    "dictionary_models"
   ]
  },
  {
   "cell_type": "code",
   "execution_count": null,
   "metadata": {
    "colab": {
     "base_uri": "https://localhost:8080/",
     "height": 472
    },
    "id": "2hIW2Cq9VkEz",
    "outputId": "fa4f39c2-b1bd-4ba9-830c-17a2ea870cb6"
   },
   "outputs": [],
   "source": [
    "# Find the highest score\n",
    "scores = [svm_acc, rf_acc, lr_acc, knn_acc, tree_acc]\n",
    "best_score = max(scores)\n",
    "key_best_model = ''\n",
    "best_model = ''\n",
    "\n",
    "# Generate a heatmap for the classifier that has the highest score\n",
    "for key, value in accuracy_of_models.items():\n",
    "  if best_score == value:\n",
    "    key_best_model = key\n",
    "    best_model = dictionary_models[key_best_model]\n",
    "    ConfusionMatrixDisplay.from_estimator(best_model,\n",
    "                                          X_test, y_test,\n",
    "                                          display_labels=['Not dropout', 'Dropout'])\n",
    "    plt.title(key_best_model);\n",
    "\n",
    "    #Pop the best performing model from dictionary\n",
    "    dictionary_models.pop(key_best_model)\n",
    "\n",
    "\n"
   ]
  },
  {
   "cell_type": "markdown",
   "metadata": {
    "id": "GLGFePkysao9"
   },
   "source": [
    "### Confusion matrix for other classifiers"
   ]
  },
  {
   "cell_type": "code",
   "execution_count": null,
   "metadata": {
    "colab": {
     "base_uri": "https://localhost:8080/",
     "height": 379
    },
    "id": "hk8Chf-Oulpf",
    "outputId": "8a12d4ff-f1d5-4127-a4e6-371124343850"
   },
   "outputs": [],
   "source": [
    "colors = ['BuPu', 'CMRmap', 'gnuplot', 'cividis']\n",
    "position = 0\n",
    "\n",
    "fig, ax = plt.subplots(1, 4, figsize=(20, 20))\n",
    "\n",
    "for key, value in dictionary_models.items():\n",
    "    disp = ConfusionMatrixDisplay.from_estimator(value,\n",
    "                                                 X_test, y_test,\n",
    "                                                 display_labels=['Not dropout', 'Dropout'],\n",
    "                                                 cmap=colors[position], ax=ax[position], colorbar=False)\n",
    "\n",
    "    # Add title\n",
    "    ax[position].set_title(key)\n",
    "\n",
    "    position += 1\n",
    "\n",
    "plt.tight_layout()  # Adjust spacing between subplots\n",
    "plt.show()\n",
    "\n"
   ]
  },
  {
   "cell_type": "code",
   "execution_count": null,
   "metadata": {
    "colab": {
     "base_uri": "https://localhost:8080/",
     "height": 57
    },
    "id": "SDCPdv2YzhO0",
    "outputId": "91d87414-b4e4-441d-d5f1-c0feba4c02e6"
   },
   "outputs": [],
   "source": [
    "Markdown(f\"\"\"\n",
    "#### From the results above we can see that {best_model} perfoms best with the highest accuracy of {round(best_score * 100, 2)}%\"\"\")\n"
   ]
  },
  {
   "cell_type": "markdown",
   "metadata": {
    "id": "1aJDwoBZJAP3"
   },
   "source": [
    "## Results"
   ]
  },
  {
   "cell_type": "markdown",
   "metadata": {
    "id": "aXujxWuoNW6w"
   },
   "source": [
    "### Feature Importances\n",
    "\n",
    "We take a look at features selected as good predictiors by some of the trained models.\n"
   ]
  },
  {
   "cell_type": "code",
   "execution_count": null,
   "metadata": {
    "id": "7mBvpGR1_3sj"
   },
   "outputs": [],
   "source": [
    "# create list for features\n",
    "feature = X_features.columns"
   ]
  },
  {
   "cell_type": "code",
   "execution_count": null,
   "metadata": {
    "id": "6f3g-BhINbFP"
   },
   "outputs": [],
   "source": [
    "# Logistic regression\n",
    "importances = lr_model.coef_[0]\n",
    "lr_feature_importance = pd.Series(np.exp(importances), index = feature).sort_values()\n",
    "\n",
    "# Decision tree\n",
    "dt_importance = pd.Series(np.exp(tree_model.feature_importances_), index = feature).sort_values()\n",
    "\n",
    "# Random forest\n",
    "rf_importance = pd.Series(np.exp(rf_model.feature_importances_), index = feature).sort_values()\n",
    "\n",
    "# SVM linear kernel\n",
    "svm_importance = pd.Series(np.exp(svm_linear[0].coef_[0]), index = feature).sort_values()\n",
    "\n"
   ]
  },
  {
   "cell_type": "code",
   "execution_count": null,
   "metadata": {
    "colab": {
     "base_uri": "https://localhost:8080/",
     "height": 807
    },
    "id": "nEXuAN3Bkq6K",
    "outputId": "f69fd0c5-d152-4b70-bb5a-71b4c87bf75e"
   },
   "outputs": [],
   "source": [
    "# Create subplots\n",
    "fig, ax = plt.subplots(2, 2, figsize=(15, 8))\n",
    "\n",
    "# Add the barplots\n",
    "lr_feature_importance.plot(kind = 'barh', ax = ax[0][0], title = 'LR importance')\n",
    "dt_importance.plot(kind = 'barh', ax = ax[0][1], title = 'Decision Trees importance')\n",
    "rf_importance.plot(kind = 'barh', ax = ax[1][0], title = 'Random forest importance')\n",
    "svm_importance.plot(kind='barh', ax = ax[1][1], title = 'SVM importance')\n",
    "\n",
    "# Add vertical lines at x=1\n",
    "for axes_row in ax:\n",
    "    for axes in axes_row:\n",
    "        axes.axvline(x=1, color='black')\n",
    "plt.tight_layout()\n",
    "plt.show()\n"
   ]
  },
  {
   "cell_type": "markdown",
   "metadata": {
    "id": "Br_d_PLvK0AT"
   },
   "source": [
    "When using logistic regression, SVM, random forest, and decision trees to predict outcomes, it was found that the features \"Courses\" and \"Age at enrollment\" were very important, with values greater than 1. This means that these features have a significant impact on predicting outcomes. It is important to consider these factors carefully when designing models for accurate predictions in similar contexts.\n",
    "\n",
    "In other words, the two features \"Courses\" and \"Age at enrollment\" are strong predictors of the outcome, and they should be included in any model that aims to accurately predict outcomes."
   ]
  },
  {
   "cell_type": "code",
   "execution_count": null,
   "metadata": {
    "colab": {
     "base_uri": "https://localhost:8080/",
     "height": 527
    },
    "id": "mvDDiq-CzQVq",
    "outputId": "e70c70fd-8a40-47ca-b915-003d17eeb6c1"
   },
   "outputs": [],
   "source": [
    "# ROC curve for best model's predictions\n",
    "y_pred = best_model.predict(X_test)\n",
    "fpr, tpr, threshold = roc_curve(y_test, y_pred)\n",
    "roc_auc = auc(fpr, tpr)\n",
    "\n",
    "# Plot ROC curve\n",
    "plt.figure()\n",
    "plt.plot(fpr, tpr)\n",
    "plt.plot([0, 1], [0, 1],'r--')\n",
    "plt.xlim([0.0, 1.0])\n",
    "plt.ylim([0.0, 1.05])\n",
    "plt.xlabel('False Positive Rate')\n",
    "plt.ylabel('True Positive Rate')\n",
    "plt.title('ROC Curve')\n",
    "plt.show()\n",
    "print('\\n')\n",
    "# Print the AUC score\n",
    "print(f'The AUC score is :{round(roc_auc, 2)}')"
   ]
  },
  {
   "cell_type": "markdown",
   "metadata": {
    "id": "xLPJoxs_WhYu"
   },
   "source": [
    "An AUC score of 0.78 means that the model is able to correctly classify 78% of the positive cases and 22% of the negative cases. This is considered to be good performance, but not excellent. There is still room for improvement"
   ]
  },
  {
   "cell_type": "code",
   "execution_count": null,
   "metadata": {
    "id": "Lai1n0AkW42f"
   },
   "outputs": [],
   "source": [
    "import joblib\n",
    "joblib.dump(grid_rf_model, 'grid_rf_model.pkl')  # Save the trained model\n"
   ]
  }
 ],
 "metadata": {
  "colab": {
   "provenance": []
  },
  "kernelspec": {
   "display_name": "Python 3 (ipykernel)",
   "language": "python",
   "name": "python3"
  },
  "language_info": {
   "codemirror_mode": {
    "name": "ipython",
    "version": 3
   },
   "file_extension": ".py",
   "mimetype": "text/x-python",
   "name": "python",
   "nbconvert_exporter": "python",
   "pygments_lexer": "ipython3",
   "version": "3.12.1"
  },
  "vscode": {
   "interpreter": {
    "hash": "1cdbd0f0bda6f0f3993395ced8d5339ef90b71b7fadc40373c2be66de919b848"
   }
  }
 },
 "nbformat": 4,
 "nbformat_minor": 4
}
